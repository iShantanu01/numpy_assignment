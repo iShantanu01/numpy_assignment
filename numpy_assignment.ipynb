{
 "cells": [
  {
   "cell_type": "code",
   "execution_count": 2,
   "id": "20055fae-db18-4634-9698-ebd7e2c28b31",
   "metadata": {},
   "outputs": [],
   "source": [
    "import numpy as np\n",
    "import pandas as pd"
   ]
  },
  {
   "cell_type": "code",
   "execution_count": null,
   "id": "7f88ef66-d006-4404-98a4-0aac86ff229f",
   "metadata": {},
   "outputs": [],
   "source": [
    "# Q.1 Create a NumPy array 'arr' of integers from 0 to 5 and print its data type.\n",
    "# create the array\n",
    "l=[0,1,2,3,4,5]\n",
    "arr=np.array(l)\n",
    "\n",
    "# show the array\n",
    "arr\n",
    "\n",
    "#show the type\n",
    "type(arr)"
   ]
  },
  {
   "cell_type": "code",
   "execution_count": null,
   "id": "ea4c0d07-3fab-4767-930d-f473a0929af1",
   "metadata": {},
   "outputs": [],
   "source": [
    "# Q.2 Given a NumPy array 'arr', check if its data type is float64.\n",
    "\n",
    "# given array\n",
    "arr = np.array([1.5, 2.6, 3.7])\n",
    "\n",
    "# show the array\n",
    "arr\n",
    "\n",
    "# check  the datatype\n",
    "arr.dtype\n"
   ]
  },
  {
   "cell_type": "code",
   "execution_count": null,
   "id": "591a8df5-ac02-4221-a5a6-c7b1a53b7b8e",
   "metadata": {},
   "outputs": [],
   "source": [
    "# Q.3 Create a NumPy array 'arr' with a data type of complex128 containing three complex numbers.\n",
    "\n",
    "# list  of complex number\n",
    "l=[ 3+5j , 7+8j , 9+10j]\n",
    "\n",
    "# create the array of complex number\n",
    "arr=np.array(l)\n",
    "\n",
    "# show the array\n",
    "arr\n",
    "\n",
    "# show the data type of the array\n",
    "arr.dtype\n",
    "\n",
    "\n",
    "\n"
   ]
  },
  {
   "cell_type": "code",
   "execution_count": null,
   "id": "dc8c7be6-de25-4736-b42b-d388e78d0d58",
   "metadata": {},
   "outputs": [],
   "source": [
    "# Q.4  Convert an existing NumPy array 'arr' of integers to float32 data type.\n",
    "\n",
    "# list\n",
    "l=[2,6,7,9,10]\n",
    "\n",
    "# create the array\n",
    "arr=np.array(l)\n",
    "\n",
    "# show the array\n",
    "arr\n",
    "\n",
    "# now convert array element into float:\n",
    "arr=arr.astype('float32')\n",
    "\n",
    "# now show the array\n",
    "arr\n",
    "\n",
    "# now show the data type of the array\n",
    "arr.dtype\n"
   ]
  },
  {
   "cell_type": "code",
   "execution_count": null,
   "id": "fda632e6-81be-46ab-9214-7a5e6abf02a7",
   "metadata": {},
   "outputs": [],
   "source": [
    "# Q.5  Given a NumPy array 'arr' with float64 data type, convert it to float32 to reduce decimal precision.\n",
    "\n",
    "# list\n",
    "l=[2.0,6.4,7.1,9.5,10]\n",
    "\n",
    "# create the array\n",
    "arr=np.array(l)\n",
    "\n",
    "# show the array\n",
    "arr.dtype           # o/p- float64\n",
    "\n",
    "# now convert array element into float:\n",
    "arr=arr.astype('float32')\n",
    "\n",
    "# now show the array\n",
    "arr\n",
    "\n",
    "# now show the data type of the array\n",
    "arr.dtype\n"
   ]
  },
  {
   "cell_type": "code",
   "execution_count": null,
   "id": "1f27b088-5486-4194-845e-6600b2bd0fd1",
   "metadata": {},
   "outputs": [],
   "source": [
    "# Q.6 Write a function array_attributes that takes a NumPy array as input and returns its shape, size, and data type.\n",
    "\n",
    "# create the function\n",
    "def array_attributes(arr):\n",
    "    return f\"array shape is {arr.shape} , array size is {arr.size}  , array data type is {arr.dtype}\"\n",
    "\n",
    "# create an array\n",
    "r = np.random.rand(3,4,2)\n",
    "\n",
    "# show the array\n",
    "r\n",
    "\n",
    "# test the function\n",
    "array_attributes(r)\n",
    "\n"
   ]
  },
  {
   "cell_type": "code",
   "execution_count": null,
   "id": "a2135099-8f25-459e-a13d-dd975425c027",
   "metadata": {},
   "outputs": [],
   "source": [
    "# Q.7 Create a function array_dimension that takes a NumPy array as input and returns its dimensionality.\n",
    "\n",
    "# define the function\n",
    "def array_dimension(arr):\n",
    "    return f\"array dimension is {arr.ndim}\"\n",
    "\n",
    "# given array for the test\n",
    "r = np.random.rand(3,4,2)\n",
    "\n",
    "# show the array\n",
    "r\n",
    "\n",
    "# test the function\n",
    "array_dimension(r)\n",
    "\n",
    "\n"
   ]
  },
  {
   "cell_type": "code",
   "execution_count": null,
   "id": "79696637-e7b0-45e6-a271-31521623481d",
   "metadata": {},
   "outputs": [],
   "source": [
    "# Q.8  Design a function item_size_info that takes a NumPy array as input and returns the item size and the total size in bytes.\n",
    "\n",
    "# define the function\n",
    "def item_size_info(arr):\n",
    "    return f\"item size is {arr.size} and the total size in bytes is {arr.nbytes} \"\n",
    "\n",
    "\n",
    "# given array for the test\n",
    "r = np.random.rand(3,4,2)\n",
    "\n",
    "\n",
    "# show the array\n",
    "r\n",
    "\n",
    "# test the function\n",
    "item_size_info(r)"
   ]
  },
  {
   "cell_type": "code",
   "execution_count": null,
   "id": "3586d3c8-a9e7-4c7f-8406-50147d67e1b1",
   "metadata": {},
   "outputs": [],
   "source": [
    "# Q.9  Create a function array_strides that takes a NumPy array as input and returns the strides of the array.\n",
    "\n",
    "# Define the function\n",
    "def array_strides(arr):\n",
    "    return f\"array strides is {arr.strides}\"\n",
    "\n",
    "# given array for the test\n",
    "r = np.random.rand(3,4,2)\n",
    "\n",
    "\n",
    "# show the array\n",
    "r\n",
    "\n",
    "# test the function\n",
    "array_strides(r)\n"
   ]
  },
  {
   "cell_type": "code",
   "execution_count": null,
   "id": "28eca7e8-08e7-43e5-a080-bb58eb66d838",
   "metadata": {},
   "outputs": [],
   "source": [
    "# Q.10  Design a function shape_stride_relationship that takes a NumPy array as input and returns the shape and strides of the array.\n",
    "\n",
    "# Define the function\n",
    "def shape_stride_relationship(arr):\n",
    "    return f\"array shape is {arr.shape} array strides is {arr.strides} \"\n",
    "\n",
    "# given array for the test\n",
    "r = np.random.rand(3,4,2)\n",
    "\n",
    "\n",
    "# show the array\n",
    "r\n",
    "\n",
    "# test the function\n",
    "shape_stride_relationship(r)\n"
   ]
  },
  {
   "cell_type": "code",
   "execution_count": null,
   "id": "ec9f562a-8851-4151-a160-eed8f2c99b8c",
   "metadata": {},
   "outputs": [],
   "source": [
    "# Q.11 Create a function `create_zeros_array` that takes an integer `n` as input and returns a NumPy array of zeros with `n` elements.\n",
    "\n",
    "# define the function\n",
    "def create_zeros_array(n):\n",
    "  return np.zeros(n)\n",
    "\n",
    "# test the function\n",
    "create_zeros_array(10)"
   ]
  },
  {
   "cell_type": "code",
   "execution_count": null,
   "id": "3bfbebc7-2570-4cd4-99cd-e1c26e446f8b",
   "metadata": {},
   "outputs": [],
   "source": [
    "# Q.12 Write a function `create_ones_matrix` that takes integers `rows` and `cols` as inputs and generates a 2D\n",
    "# NumPy array filled with ones of size `rows x cols`.\n",
    "\n",
    "# define the function:\n",
    "def create_ones_matrix(rows,cols):\n",
    "  return np.ones((rows,cols))\n",
    "\n",
    "# test  the function\n",
    "create_ones_matrix(3,4)\n",
    "\n"
   ]
  },
  {
   "cell_type": "code",
   "execution_count": 5,
   "id": "f9983766-3ac2-4a3e-9bc2-7c21d5850450",
   "metadata": {},
   "outputs": [
    {
     "data": {
      "text/plain": [
       "array([ 2,  4,  6,  8, 10, 12, 14, 16, 18])"
      ]
     },
     "execution_count": 5,
     "metadata": {},
     "output_type": "execute_result"
    }
   ],
   "source": [
    "# Q.13 Write a function `generate_range_array` that takes three integers start, stop, and step as arguments and creates\n",
    "#      a NumPy array with a range starting from `start`, ending at stop (exclusive), and with the specified `step`.\n",
    "\n",
    "\n",
    "# create a function\n",
    "def generate_range_array(start , stop , step):\n",
    "   return np.arange(start , stop , step)\n",
    "\n",
    "# call the function\n",
    "generate_range_array(2,20 ,2)\n",
    "\n"
   ]
  },
  {
   "cell_type": "code",
   "execution_count": 17,
   "id": "5a80af74-7440-4559-a269-3875da6e2543",
   "metadata": {},
   "outputs": [
    {
     "data": {
      "text/plain": [
       "array([ 2.3       ,  4.32222222,  6.34444444,  8.36666667, 10.38888889,\n",
       "       12.41111111, 14.43333333, 16.45555556, 18.47777778, 20.5       ])"
      ]
     },
     "execution_count": 17,
     "metadata": {},
     "output_type": "execute_result"
    }
   ],
   "source": [
    "# 14. Design a function `generate_linear_space` that takes two floats `start`, `stop`, and an integer `num` as\n",
    "#   arguments and generates a NumPy array with num equally spaced values between `start` and `stop` (inclusive).\n",
    "\n",
    "# create a function:\n",
    "def generate_linear_space(start , stop , num):\n",
    "   return np.linspace(start , stop ,num)\n",
    "\n",
    "# call the function\n",
    "generate_linear_space(2.3 ,20.5 , 10)\n",
    "\n"
   ]
  },
  {
   "cell_type": "code",
   "execution_count": 21,
   "id": "db8f89d3-1646-4d7c-8feb-9b7cc71db0f9",
   "metadata": {},
   "outputs": [
    {
     "data": {
      "text/plain": [
       "array([[1., 0., 0., 0., 0.],\n",
       "       [0., 1., 0., 0., 0.],\n",
       "       [0., 0., 1., 0., 0.],\n",
       "       [0., 0., 0., 1., 0.],\n",
       "       [0., 0., 0., 0., 1.]])"
      ]
     },
     "execution_count": 21,
     "metadata": {},
     "output_type": "execute_result"
    }
   ],
   "source": [
    "#  15. Create a function `create_identity_matrix` that takes an integer `n` as input and generates a square\n",
    "#      identity matrix of size `n x n` using `numpy.eye`.\n",
    "\n",
    "# create a function:\n",
    "def create_identity_matrix(n):\n",
    "    return np.eye(n,n)\n",
    "\n",
    "\n",
    "\n",
    "# call the function\n",
    "create_identity_matrix(5)"
   ]
  },
  {
   "cell_type": "code",
   "execution_count": null,
   "id": "3905091d-c6d3-4fe0-95d9-37c8d7a7353f",
   "metadata": {},
   "outputs": [],
   "source": [
    "# create a function:\n",
    "# call the function"
   ]
  },
  {
   "cell_type": "code",
   "execution_count": 23,
   "id": "245d4c3d-a16f-44cc-b52c-f01e9f34c02f",
   "metadata": {},
   "outputs": [
    {
     "data": {
      "text/plain": [
       "array([ 1,  4,  5,  7,  8,  9,  0, 10])"
      ]
     },
     "execution_count": 23,
     "metadata": {},
     "output_type": "execute_result"
    }
   ],
   "source": [
    "# 16. Write a function that takes a Python list and converts it into a NumPy array.\n",
    "\n",
    "# list\n",
    "l = [1,4,5,7,8,9,0,10]\n",
    "\n",
    "# convert a list into a numpy array.\n",
    "np.array(l)\n",
    "\n",
    "# note- as type of function is not mention I do prefer built-in function to do this."
   ]
  },
  {
   "cell_type": "code",
   "execution_count": 33,
   "id": "5a638938-2655-4799-97bb-a5320613edf4",
   "metadata": {},
   "outputs": [
    {
     "name": "stdout",
     "output_type": "stream",
     "text": [
      "this is arr [  1   5   7   8 100  20]\n",
      "this is view_arr [  1   5   7   8 100  20]\n",
      "this is arr [  1   5   7   8 100  20]\n",
      "this is view_arr [  1   0   5   0   7   0   8   0 100   0  20   0]\n"
     ]
    }
   ],
   "source": [
    "# 17. Create a NumPy array and demonstrate the use of `numpy.view` to create a new array object with the\n",
    "#     same data.\n",
    "\n",
    "# create an array:\n",
    "arr = np.array([1,5,7,8,9,20] , dtype=np.int32)\n",
    "\n",
    "# use-1 \n",
    "view_arr = arr.view()\n",
    "# modify the array\n",
    "view_arr[4] = 100\n",
    "\n",
    "# output after modification:\n",
    "print('this is arr' , arr)\n",
    "print('this is view_arr' , view_arr)\n",
    "\n",
    "\n",
    "# use-2  (different datatype)\n",
    "view_arr1 = arr.view(np.int16)\n",
    "\n",
    "# output after modification\n",
    "print('this is arr' , arr)\n",
    "print('this is view_arr' , view_arr1)"
   ]
  },
  {
   "cell_type": "code",
   "execution_count": 39,
   "id": "ed8b61ac-4d25-4ecb-863c-d87e4e4f2ee5",
   "metadata": {},
   "outputs": [
    {
     "data": {
      "text/plain": [
       "array([ 1,  5,  6,  7,  2,  7,  9, 17])"
      ]
     },
     "execution_count": 39,
     "metadata": {},
     "output_type": "execute_result"
    }
   ],
   "source": [
    "# 18. Write a function that takes two NumPy arrays and concatenates them along a specified axis.\n",
    "\n",
    "\n",
    "# arrays:\n",
    "arr1 = np.array([1,5,6,7])\n",
    "arr2 = np.array([2,7,9,17])\n",
    "\n",
    "# concatiantion:  (axis =0)\n",
    "np.concatenate((arr1 , arr2 ) ,  axis =0)"
   ]
  },
  {
   "cell_type": "code",
   "execution_count": 57,
   "id": "620d1e09-e408-44dc-b543-77e306e0140d",
   "metadata": {},
   "outputs": [
    {
     "name": "stdout",
     "output_type": "stream",
     "text": [
      "this is arr1 [[3 2]\n",
      " [4 4]\n",
      " [3 4]]\n",
      "this is arr2 [[4 8 4 8]\n",
      " [5 6 7 4]\n",
      " [6 7 7 4]]\n"
     ]
    },
    {
     "data": {
      "text/plain": [
       "array([[3, 2, 4, 8, 4, 8],\n",
       "       [4, 4, 5, 6, 7, 4],\n",
       "       [3, 4, 6, 7, 7, 4]])"
      ]
     },
     "execution_count": 57,
     "metadata": {},
     "output_type": "execute_result"
    }
   ],
   "source": [
    "# 19. Create two NumPy arrays with different shapes and concatenate them horizontally using `numpy.concatenate`.\n",
    "\n",
    "# arrays:\n",
    "arr1 = np.random.randint(2,5 , (3,2))\n",
    "arr2 = np.random.randint(4,9 , (3,4))\n",
    "\n",
    "print('this is arr1' , arr1)\n",
    "print('this is arr2' , arr2)\n",
    "\n",
    "# # concatiantion:  (axis =0)\n",
    "np.concatenate((arr1 , arr2 ) ,  axis =1)\n"
   ]
  },
  {
   "cell_type": "code",
   "execution_count": 73,
   "id": "dbf73e30-6fdf-46ff-87ce-4abaa55289a3",
   "metadata": {},
   "outputs": [
    {
     "data": {
      "text/plain": [
       "array([[ 1,  2,  3],\n",
       "       [ 4,  5,  6],\n",
       "       [ 7,  8,  9],\n",
       "       [10, 11, 12],\n",
       "       [13, 14, 15]])"
      ]
     },
     "execution_count": 73,
     "metadata": {},
     "output_type": "execute_result"
    }
   ],
   "source": [
    "# 20. Write a function that vertically stacks multiple NumPy arrays given as a list.\n",
    "\n",
    "arr1 = np.array([[1, 2, 3],\n",
    "                   [4, 5, 6]])\n",
    "\n",
    "arr2 = np.array([[7, 8, 9],\n",
    "                   [10, 11, 12]])\n",
    "\n",
    "arr3 = np.array([[13, 14, 15]])\n",
    "\n",
    "\n",
    "# define a function:\n",
    "def array_stocks(arrays):\n",
    "    return np.vstack(arrays)\n",
    "\n",
    "array_list= [arr1,arr2,arr3]\n",
    "\n",
    "# call the function:\n",
    "array_stocks(array_list)\n"
   ]
  },
  {
   "cell_type": "code",
   "execution_count": 91,
   "id": "eada1798-c7c7-4e85-93a3-aa8509097161",
   "metadata": {},
   "outputs": [
    {
     "data": {
      "text/plain": [
       "array([ 2,  3,  4,  5,  6,  7,  8,  9, 10, 11, 12, 13, 14, 15, 16, 17, 18,\n",
       "       19, 20, 21, 22, 23, 24, 25, 26, 27, 28, 29, 30, 31, 32, 33, 34, 35,\n",
       "       36, 37, 38, 39, 40])"
      ]
     },
     "execution_count": 91,
     "metadata": {},
     "output_type": "execute_result"
    }
   ],
   "source": [
    "# 21. Write a Python function using NumPy to create an array of integers within a specified range (inclusive)\n",
    "#     with a given step size.\n",
    "\n",
    "\n",
    "# create a function:\n",
    "def int_arr(start , stop , step):\n",
    "    return np.arange(start , stop+1 , step, dtype =int)\n",
    "\n",
    "# call the function\n",
    "int_arr(2,40 ,1)\n"
   ]
  },
  {
   "cell_type": "code",
   "execution_count": 93,
   "id": "828f0f1a-ddbb-42b8-8305-6f200fe0eb28",
   "metadata": {},
   "outputs": [
    {
     "data": {
      "text/plain": [
       "array([0.        , 0.11111111, 0.22222222, 0.33333333, 0.44444444,\n",
       "       0.55555556, 0.66666667, 0.77777778, 0.88888889, 1.        ])"
      ]
     },
     "execution_count": 93,
     "metadata": {},
     "output_type": "execute_result"
    }
   ],
   "source": [
    "# 22. Write a Python function using NumPy to generate an array of 10 equally spaced values between 0 and 1(inclusive).\n",
    "\n",
    "# i use the direct funtion as no function type is mentuoned\n",
    "np.linspace(0,1,10)\n",
    "\n",
    "\n",
    "\n"
   ]
  },
  {
   "cell_type": "code",
   "execution_count": 103,
   "id": "04cd1e02-5b9b-40dd-9d4d-5a3310e10abb",
   "metadata": {},
   "outputs": [
    {
     "data": {
      "text/plain": [
       "array([   1.        ,    5.62341325,   31.6227766 ,  177.827941  ,\n",
       "       1000.        ])"
      ]
     },
     "execution_count": 103,
     "metadata": {},
     "output_type": "execute_result"
    }
   ],
   "source": [
    "# 23. Write a Python function using NumPy to create an array of 5 logarithmically spaced values between 1 and\n",
    "#     1000 (inclusive).\n",
    "\n",
    "# define the function\n",
    "def log_array(start , stop , num):\n",
    "   return np.logspace(np.log10(start), np.log10(stop), num)\n",
    "\n",
    "# call the function:\n",
    "log_array(1,1000 ,5)                \n",
    "                      "
   ]
  },
  {
   "cell_type": "code",
   "execution_count": 113,
   "id": "daa8d166-d8f2-4944-bf8e-473d3fbe869a",
   "metadata": {},
   "outputs": [
    {
     "data": {
      "text/html": [
       "<div>\n",
       "<style scoped>\n",
       "    .dataframe tbody tr th:only-of-type {\n",
       "        vertical-align: middle;\n",
       "    }\n",
       "\n",
       "    .dataframe tbody tr th {\n",
       "        vertical-align: top;\n",
       "    }\n",
       "\n",
       "    .dataframe thead th {\n",
       "        text-align: right;\n",
       "    }\n",
       "</style>\n",
       "<table border=\"1\" class=\"dataframe\">\n",
       "  <thead>\n",
       "    <tr style=\"text-align: right;\">\n",
       "      <th></th>\n",
       "      <th>0</th>\n",
       "      <th>1</th>\n",
       "      <th>2</th>\n",
       "    </tr>\n",
       "  </thead>\n",
       "  <tbody>\n",
       "    <tr>\n",
       "      <th>0</th>\n",
       "      <td>28</td>\n",
       "      <td>97</td>\n",
       "      <td>20</td>\n",
       "    </tr>\n",
       "    <tr>\n",
       "      <th>1</th>\n",
       "      <td>36</td>\n",
       "      <td>40</td>\n",
       "      <td>87</td>\n",
       "    </tr>\n",
       "    <tr>\n",
       "      <th>2</th>\n",
       "      <td>16</td>\n",
       "      <td>49</td>\n",
       "      <td>41</td>\n",
       "    </tr>\n",
       "    <tr>\n",
       "      <th>3</th>\n",
       "      <td>14</td>\n",
       "      <td>66</td>\n",
       "      <td>55</td>\n",
       "    </tr>\n",
       "    <tr>\n",
       "      <th>4</th>\n",
       "      <td>83</td>\n",
       "      <td>65</td>\n",
       "      <td>35</td>\n",
       "    </tr>\n",
       "  </tbody>\n",
       "</table>\n",
       "</div>"
      ],
      "text/plain": [
       "    0   1   2\n",
       "0  28  97  20\n",
       "1  36  40  87\n",
       "2  16  49  41\n",
       "3  14  66  55\n",
       "4  83  65  35"
      ]
     },
     "execution_count": 113,
     "metadata": {},
     "output_type": "execute_result"
    }
   ],
   "source": [
    "# 24. Create a Pandas DataFrame using a NumPy array that contains 5 rows and 3 columns, where the values\n",
    "#     are random integers between 1 and 100.\n",
    "\n",
    "# create the dataframe\n",
    "df = pd.DataFrame(np.random.randint(1,100 , (5,3)))\n",
    "\n",
    "# this is the output\n",
    "df\n",
    "\n"
   ]
  },
  {
   "cell_type": "code",
   "execution_count": 181,
   "id": "b5931543-f71e-445a-a6af-4a13f661c2fa",
   "metadata": {},
   "outputs": [
    {
     "data": {
      "text/html": [
       "<div>\n",
       "<style scoped>\n",
       "    .dataframe tbody tr th:only-of-type {\n",
       "        vertical-align: middle;\n",
       "    }\n",
       "\n",
       "    .dataframe tbody tr th {\n",
       "        vertical-align: top;\n",
       "    }\n",
       "\n",
       "    .dataframe thead th {\n",
       "        text-align: right;\n",
       "    }\n",
       "</style>\n",
       "<table border=\"1\" class=\"dataframe\">\n",
       "  <thead>\n",
       "    <tr style=\"text-align: right;\">\n",
       "      <th></th>\n",
       "      <th>Name</th>\n",
       "      <th>no</th>\n",
       "    </tr>\n",
       "  </thead>\n",
       "  <tbody>\n",
       "    <tr>\n",
       "      <th>0</th>\n",
       "      <td>a</td>\n",
       "      <td>0</td>\n",
       "    </tr>\n",
       "    <tr>\n",
       "      <th>1</th>\n",
       "      <td>b</td>\n",
       "      <td>0</td>\n",
       "    </tr>\n",
       "    <tr>\n",
       "      <th>2</th>\n",
       "      <td>c</td>\n",
       "      <td>0</td>\n",
       "    </tr>\n",
       "    <tr>\n",
       "      <th>3</th>\n",
       "      <td>d</td>\n",
       "      <td>4</td>\n",
       "    </tr>\n",
       "    <tr>\n",
       "      <th>4</th>\n",
       "      <td>e</td>\n",
       "      <td>0</td>\n",
       "    </tr>\n",
       "  </tbody>\n",
       "</table>\n",
       "</div>"
      ],
      "text/plain": [
       "  Name  no\n",
       "0    a   0\n",
       "1    b   0\n",
       "2    c   0\n",
       "3    d   4\n",
       "4    e   0"
      ]
     },
     "execution_count": 181,
     "metadata": {},
     "output_type": "execute_result"
    }
   ],
   "source": [
    "# 25. Write a function that takes a Pandas DataFrame and replaces all negative values in a specific column\n",
    "#     with zeros. Use NumPy operations within the Pandas DataFrame.\n",
    "\n",
    "\n",
    "# create datafrme:\n",
    "df = pd.DataFrame( {'Name':['a' , 'b' ,'c' ,'d' ,'e'] , \n",
    "                    'no':[-1 , -3 , 0 , 4 , -5]})\n",
    "\n",
    "# define a unction\n",
    "def dataframe_manipulation(dframe , col_name):\n",
    "      dframe[col_name] = np.where(dframe[col_name] < 0, 0, dframe[col_name])\n",
    "      return dframe\n",
    "\n",
    "# call the function:\n",
    "dataframe_manipulation(df , 'no')\n",
    "\n",
    "\n",
    "# df[df['no']<0]['no']\n"
   ]
  },
  {
   "cell_type": "code",
   "execution_count": 141,
   "id": "fbdcfc79-211c-477a-b7be-0c26d8b6a715",
   "metadata": {},
   "outputs": [
    {
     "data": {
      "text/plain": [
       "30"
      ]
     },
     "execution_count": 141,
     "metadata": {},
     "output_type": "execute_result"
    }
   ],
   "source": [
    "# 26. Access the 3rd element from the given NumPy array.\n",
    "\n",
    "# given array:\n",
    "arr = np.array([10, 20, 30, 40, 50])\n",
    "\n",
    "# access the 3rd element:\n",
    "arr[2]"
   ]
  },
  {
   "cell_type": "code",
   "execution_count": 172,
   "id": "e8b1cc28-578b-4d30-875f-2e71e3652308",
   "metadata": {},
   "outputs": [
    {
     "data": {
      "text/plain": [
       "6"
      ]
     },
     "execution_count": 172,
     "metadata": {},
     "output_type": "execute_result"
    }
   ],
   "source": [
    "# 27. Retrieve the element at index (1, 2) from the 2D NumPy array.\n",
    "\n",
    "# given array\n",
    "arr_2d = np.array([[1,2,3],\n",
    "                  [4,5,6],\n",
    "                  [7,8,9]])\n",
    "# index(1,2) means 2nd row 3rd element:\n",
    "arr_2d[1,2]"
   ]
  },
  {
   "cell_type": "code",
   "execution_count": 7,
   "id": "894c01ed-cede-474f-b618-6cdd700e99eb",
   "metadata": {},
   "outputs": [
    {
     "name": "stdout",
     "output_type": "stream",
     "text": [
      "this is the extracted elementd [ 8 10  7]\n"
     ]
    }
   ],
   "source": [
    "# 28. Using boolean indexing, extract elements greater than 5 from the given NumPy array.\n",
    "\n",
    "# given array\n",
    "arr = np.array([3, 8, 2, 10, 5, 7])\n",
    "\n",
    "\n",
    "# extract elements greater than 5:\n",
    "# condition\n",
    "flag = arr > 5\n",
    "\n",
    "# elements:\n",
    "arr1 = arr[flag]\n",
    "print('this is the extracted elementd' ,arr1)"
   ]
  },
  {
   "cell_type": "code",
   "execution_count": 9,
   "id": "15705f17-c9c6-419b-b067-3b20843e08c9",
   "metadata": {},
   "outputs": [
    {
     "data": {
      "text/plain": [
       "array([3, 4, 5])"
      ]
     },
     "execution_count": 9,
     "metadata": {},
     "output_type": "execute_result"
    }
   ],
   "source": [
    "# 29. Perform basic slicing to extract elements from index 2 to 5 (inclusive) from the given NumPy array.\n",
    "\n",
    "# given array\n",
    "arr = np.array([1, 2, 3, 4, 5, 6, 7, 8, 9])\n",
    "\n",
    "# slicing:\n",
    "arr[2:5]"
   ]
  },
  {
   "cell_type": "code",
   "execution_count": 45,
   "id": "047e1f20-de2b-49bb-a727-15f414582a5e",
   "metadata": {},
   "outputs": [
    {
     "data": {
      "text/plain": [
       "array([[2, 3],\n",
       "       [5, 6]])"
      ]
     },
     "execution_count": 45,
     "metadata": {},
     "output_type": "execute_result"
    }
   ],
   "source": [
    "#  30. Slice the 2D NumPy array to extract the sub-array `[[2, 3], [5, 6]]` from the given array.\n",
    "\n",
    "# given array:\n",
    "arr_2d = np.array([[1,2,3],\n",
    "                  [4,5,6],\n",
    "                  [7,8,9]])\n",
    "\n",
    "# extract  sub-array:\n",
    "sub_arr = arr_2d[0:2 ,1:3]\n",
    "sub_arr"
   ]
  },
  {
   "cell_type": "code",
   "execution_count": 60,
   "id": "d5c6da4f-42a0-49eb-8e57-1f9915dead62",
   "metadata": {},
   "outputs": [
    {
     "data": {
      "text/plain": [
       "array([3, 1, 7, 6])"
      ]
     },
     "execution_count": 60,
     "metadata": {},
     "output_type": "execute_result"
    }
   ],
   "source": [
    "# 31.Write a NumPy function to extract elements in specific order from a given 2D array based on indices\n",
    "#    provided in another array.\n",
    "\n",
    "# create the array and the index array:\n",
    "arr = np.array([[1, 2, 3],\n",
    "                [4, 5, 6],\n",
    "                [7, 8, 9]])\n",
    "\n",
    "indices =np.array([[0,2],\n",
    "                  [0,0],\n",
    "                  [2,0],\n",
    "                  [1,2]])\n",
    "\n",
    "\n",
    "# define the function:\n",
    "def extracted_array(array , index_array):\n",
    "    return array[ index_array[ : , 0] , index_array[ : , 1]]\n",
    "\n",
    "# call the function:\n",
    "extracted_array(arr , indices)\n"
   ]
  },
  {
   "cell_type": "code",
   "execution_count": 70,
   "id": "75c1ab84-9ae7-4e7c-a0f4-92bd76899346",
   "metadata": {},
   "outputs": [
    {
     "data": {
      "text/plain": [
       "array([12, 15, 20, 13, 11, 24])"
      ]
     },
     "execution_count": 70,
     "metadata": {},
     "output_type": "execute_result"
    }
   ],
   "source": [
    "# 32. Create a NumPy function that filters elements greater than a threshold from a given 1D array using\n",
    "#     boolean indexing.\n",
    "\n",
    "# create the array and threshold_value:\n",
    "arr =np.array([12,15,20,5,6,8,9,13,11,24])\n",
    "threshold_value =9\n",
    "\n",
    "# create the function:\n",
    "def filter_array(array,threshold_value):\n",
    "      return array[array > threshold_value]\n",
    "\n",
    "# call the function:\n",
    "filter_array(arr,threshold_value)"
   ]
  },
  {
   "cell_type": "code",
   "execution_count": 88,
   "id": "9a6a52d6-dd79-4f7a-9451-13e77d7568d6",
   "metadata": {},
   "outputs": [
    {
     "name": "stdout",
     "output_type": "stream",
     "text": [
      "this is 3D array: \n",
      " [[[7 3 2]\n",
      "  [5 5 7]\n",
      "  [9 8 4]]\n",
      "\n",
      " [[1 8 5]\n",
      "  [4 1 2]\n",
      "  [9 8 8]]]\n"
     ]
    },
    {
     "data": {
      "text/plain": [
       "array([5, 8])"
      ]
     },
     "execution_count": 88,
     "metadata": {},
     "output_type": "execute_result"
    }
   ],
   "source": [
    "# 33. Develop a NumPy function that extracts specific elements from a 3D array using indices provided in three\n",
    "#     separate arrays for each dimension.\n",
    "\n",
    "# create a 3D array:\n",
    "arr = np.random.randint(1,10 , (2,3,3))\n",
    "print('this is 3D array: \\n' , arr)\n",
    "\n",
    "# create 3 index:\n",
    "index1 = np.array([0,1])\n",
    "index2 = np.array([1,2])\n",
    "index3 = np.array([0,2])\n",
    "\n",
    "# define the function:\n",
    "def  extracted_array(array , index1 ,index2 , index3):\n",
    "    return array[index1 ,index2 , index3]\n",
    "\n",
    "\n",
    "# call the function:\n",
    "extracted_array(arr , index1 ,index2 , index3)"
   ]
  },
  {
   "cell_type": "code",
   "execution_count": 100,
   "id": "99c72b33-3335-40d6-9f67-f9d0447be04c",
   "metadata": {},
   "outputs": [
    {
     "name": "stdout",
     "output_type": "stream",
     "text": [
      "this is 3D array: \n",
      " [[[ 3  3  9]\n",
      "  [ 9  8 11]\n",
      "  [ 2  4  2]\n",
      "  [17 14 13]]\n",
      "\n",
      " [[ 8 16  9]\n",
      "  [ 8 10 17]\n",
      "  [ 4 15 15]\n",
      "  [11  2 16]]]\n"
     ]
    },
    {
     "data": {
      "text/plain": [
       "array([11, 13, 10, 11])"
      ]
     },
     "execution_count": 100,
     "metadata": {},
     "output_type": "execute_result"
    }
   ],
   "source": [
    "# 34. Write a NumPy function that returns elements from an array where both two conditions are satisfied\n",
    "#     using boolean indexing.\n",
    "\n",
    "# create a array:\n",
    "arr = np.random.randint(1,18 , (2,4,3))\n",
    "print('this is 3D array: \\n' , arr)\n",
    "\n",
    "condtn1 = (arr <14)\n",
    "condtn2 = (arr >9)\n",
    "\n",
    "# define function:\n",
    "def filter_arr(array, condition1,condition2):\n",
    "    return array[condition1 & condition2]\n",
    "\n",
    "# call the function:\n",
    "filter_arr(arr, condtn1,condtn2)"
   ]
  },
  {
   "cell_type": "code",
   "execution_count": 104,
   "id": "46870a65-f2f7-4eb4-9f48-fc92cf3827d0",
   "metadata": {},
   "outputs": [
    {
     "data": {
      "text/plain": [
       "array([3, 5, 7])"
      ]
     },
     "execution_count": 104,
     "metadata": {},
     "output_type": "execute_result"
    }
   ],
   "source": [
    "# 35. Create a NumPy function that extracts elements from a 2D array using row and column indices provided\n",
    "#     in separate arrays.\n",
    "\n",
    "# create the array :\n",
    "arr = np.array([[1, 2, 3],\n",
    "                [4, 5, 6],\n",
    "                [7, 8, 9]])\n",
    "\n",
    "# Row and column indices\n",
    "row_indices = np.array([0, 1, 2]) \n",
    "col_indices = np.array([2, 1, 0]) \n",
    "\n",
    "\n",
    "# define the function:\n",
    "def filter_array(array ,row_indices , col_indices):\n",
    "    return array[row_indices , col_indices]\n",
    "\n",
    "\n",
    "# call the function:\n",
    "filter_array(arr ,row_indices , col_indices)"
   ]
  },
  {
   "cell_type": "code",
   "execution_count": 55,
   "id": "66995105-c87a-4c06-9994-ee5b0fcc7e1e",
   "metadata": {},
   "outputs": [
    {
     "name": "stdout",
     "output_type": "stream",
     "text": [
      "this is a 3x3 array [[ 8  6 14]\n",
      " [ 7  5 14]\n",
      " [ 8 12 12]]\n"
     ]
    },
    {
     "data": {
      "text/plain": [
       "array([[13, 11, 19],\n",
       "       [12, 10, 19],\n",
       "       [13, 17, 17]])"
      ]
     },
     "execution_count": 55,
     "metadata": {},
     "output_type": "execute_result"
    }
   ],
   "source": [
    "# 36. Given an array arr of shape (3, 3), add a scalar value of 5 to each element using NumPy broadcasting.\n",
    "\n",
    "# create an array\n",
    "arr = np.random.randint(1,20 , (3,3))\n",
    "print('this is a 3x3 array', arr)\n",
    "\n",
    "# broadcasting:\n",
    "arr1 = arr+5\n",
    "arr1"
   ]
  },
  {
   "cell_type": "code",
   "execution_count": 63,
   "id": "b86bca8a-33fa-48b0-92df-8d3dac2809f4",
   "metadata": {},
   "outputs": [
    {
     "name": "stdout",
     "output_type": "stream",
     "text": [
      "this is arr1 [[11  6  3]]\n",
      "this is arr2 [[ 5  1 17  5]\n",
      " [13  1  4 17]\n",
      " [19 18 18  6]]\n"
     ]
    },
    {
     "data": {
      "text/plain": [
       "array([[ 55,  11, 187,  55],\n",
       "       [ 78,   6,  24, 102],\n",
       "       [ 57,  54,  54,  18]])"
      ]
     },
     "execution_count": 63,
     "metadata": {},
     "output_type": "execute_result"
    }
   ],
   "source": [
    "# 37. Consider two arrays arr1 of shape (1, 3) and arr2 of shape (3, 4). Multiply each row of arr2 by the\n",
    "#     corresponding element in arr1 using NumPy broadcasting.\n",
    "\n",
    "# create two arrays:\n",
    "arr1 = np.random.randint(1,15 , (1,3))\n",
    "arr2 = np.random.randint(1,20 , (3,4))\n",
    "print('this is arr1', arr1)\n",
    "print('this is arr2', arr2)\n",
    "\n",
    "# broadcasting:\n",
    "arr3 = arr1.T * arr2      # transpose the arr1 to multiply each element of arr2 with the corresponding element of arr1\n",
    "arr3\n"
   ]
  },
  {
   "cell_type": "code",
   "execution_count": 67,
   "id": "51009a9d-b577-49b4-9ef7-61bd49c6094d",
   "metadata": {},
   "outputs": [
    {
     "name": "stdout",
     "output_type": "stream",
     "text": [
      "this is arr1 [[ 8 13  5  3]]\n",
      "this is arr2 [[ 3  9 12]\n",
      " [18  4  4]\n",
      " [15  5 14]\n",
      " [ 2  5 19]]\n"
     ]
    },
    {
     "data": {
      "text/plain": [
       "array([[11, 17, 20],\n",
       "       [31, 17, 17],\n",
       "       [20, 10, 19],\n",
       "       [ 5,  8, 22]])"
      ]
     },
     "execution_count": 67,
     "metadata": {},
     "output_type": "execute_result"
    }
   ],
   "source": [
    "# 38. Given a 1D array arr1 of shape (1, 4) and a 2D array arr2 of shape (4, 3), add arr1 to each row of arr2 using\n",
    "#     NumPy broadcasting.\n",
    "\n",
    "# create two arrays:\n",
    "arr1 = np.random.randint(1,15 , (1,4))\n",
    "arr2 = np.random.randint(1,20 , (4,3))\n",
    "print('this is arr1', arr1)\n",
    "print('this is arr2', arr2)\n",
    "\n",
    "# broadcasting:\n",
    "arr3 = arr1.T + arr2      # transpose the arr1 to add each element of arr2 with the corresponding element of arr1\n",
    "arr3\n"
   ]
  },
  {
   "cell_type": "code",
   "execution_count": 71,
   "id": "ac58efe1-d232-4c26-9c9d-40ceafff148d",
   "metadata": {},
   "outputs": [
    {
     "name": "stdout",
     "output_type": "stream",
     "text": [
      "this is arr1 [[ 4]\n",
      " [10]\n",
      " [ 6]]\n",
      "this is arr2 [[ 3 15  8]]\n"
     ]
    },
    {
     "data": {
      "text/plain": [
       "array([[ 7, 19, 12],\n",
       "       [13, 25, 18],\n",
       "       [ 9, 21, 14]])"
      ]
     },
     "execution_count": 71,
     "metadata": {},
     "output_type": "execute_result"
    }
   ],
   "source": [
    "# 39. Consider two arrays arr1 of shape (3, 1) and arr2 of shape (1, 3). Add these arrays using NumPy\n",
    "#     broadcasting.\n",
    "\n",
    "# create two arrays:\n",
    "arr1 = np.random.randint(1,15 , (3,1))\n",
    "arr2 = np.random.randint(1,20 , (1,3))\n",
    "print('this is arr1', arr1)\n",
    "print('this is arr2', arr2)\n",
    "\n",
    "# broadcasting:\n",
    "arr3 = arr1 + arr2      \n",
    "arr3"
   ]
  },
  {
   "cell_type": "code",
   "execution_count": 126,
   "id": "2f571c4a-6241-4907-b107-d3a8afa8b349",
   "metadata": {},
   "outputs": [
    {
     "name": "stdout",
     "output_type": "stream",
     "text": [
      "this is arr1 [[10  3 14]\n",
      " [ 5 10  3]]\n",
      "this is arr2 [[14 15]\n",
      " [ 8  4]]\n",
      "broadcastring result [[[140 150]\n",
      "  [ 42  45]\n",
      "  [196 210]]\n",
      "\n",
      " [[ 40  20]\n",
      "  [ 80  40]\n",
      "  [ 24  12]]]\n"
     ]
    }
   ],
   "source": [
    "# 40. Given arrays arr1 of shape (2, 3) and arr2 of shape (2, 2), perform multiplication using NumPy\n",
    "#   broadcasting. Handle the shape incompatibility.\n",
    "\n",
    "# create two arrays:\n",
    "arr1 = np.random.randint(1,15 , (2,3))\n",
    "arr2 = np.random.randint(1,20 , (2 ,2))\n",
    "print('this is arr1', arr1)\n",
    "print('this is arr2', arr2)\n",
    "\n",
    "# broadcasting:\n",
    "arr3 = np.expand_dims(arr1 , axis =2) * np.expand_dims(arr2 , axis = 1)      \n",
    "print('broadcastring result' , arr3)\n",
    "\n",
    "\n"
   ]
  },
  {
   "cell_type": "code",
   "execution_count": 5,
   "id": "75a9a47d-0997-42a7-a6b3-b01300ac23a0",
   "metadata": {},
   "outputs": [
    {
     "data": {
      "text/plain": [
       "array([2.5, 3.5, 4.5])"
      ]
     },
     "execution_count": 5,
     "metadata": {},
     "output_type": "execute_result"
    }
   ],
   "source": [
    "# 41. Calculate column wise mean for the given array:\n",
    "# given array\n",
    "arr = np.array([[1, 2, 3], [4, 5, 6]])\n",
    "\n",
    "# column wise mean:\n",
    "np.mean(arr , axis =0)\n"
   ]
  },
  {
   "cell_type": "code",
   "execution_count": 11,
   "id": "2e2ac325-93b1-4e76-9524-1cca522b0423",
   "metadata": {},
   "outputs": [
    {
     "data": {
      "text/plain": [
       "array([3, 6])"
      ]
     },
     "execution_count": 11,
     "metadata": {},
     "output_type": "execute_result"
    }
   ],
   "source": [
    "# 42. Find maximum value in each row of the given array:\n",
    "# given array\n",
    "arr = np.array([[1, 2, 3], [4, 5, 6]])\n",
    "\n",
    "# row wise max values:\n",
    "np.max(arr , axis =1)"
   ]
  },
  {
   "cell_type": "code",
   "execution_count": 25,
   "id": "1e80acd4-5457-4683-bb18-437224d65026",
   "metadata": {},
   "outputs": [
    {
     "name": "stdout",
     "output_type": "stream",
     "text": [
      "given array \n",
      " [[1 2 3]\n",
      " [4 5 6]]\n",
      "indices of the max values \n",
      " [1 1 1]\n"
     ]
    }
   ],
   "source": [
    "# 43. For the given array, find indices of maximum value in each column.\n",
    "\n",
    "# given array\n",
    "arr = np.array([[1, 2, 3], [4, 5, 6]])\n",
    "print('given array \\n',arr)\n",
    "\n",
    "\n",
    "# find the indices:\n",
    "print('indices of the max values \\n' , np.argmax(arr , axis = 0))"
   ]
  },
  {
   "cell_type": "code",
   "execution_count": 95,
   "id": "ee688953-2b79-4d1d-a310-faa22917c304",
   "metadata": {},
   "outputs": [
    {
     "data": {
      "text/plain": [
       "array([[ 1,  3,  6],\n",
       "       [ 4,  9, 15]])"
      ]
     },
     "execution_count": 95,
     "metadata": {},
     "output_type": "execute_result"
    }
   ],
   "source": [
    "# 44. For the given array, apply custom function to calculate moving sum along rows.\n",
    "\n",
    "arr = np.array([[1, 2, 3], [4, 5, 6]])\n",
    "\n",
    "# perform the cumsum along the rows\n",
    "np.cumsum(arr , axis =1)\n"
   ]
  },
  {
   "cell_type": "code",
   "execution_count": 50,
   "id": "79b70b9d-85be-4c11-b27b-9b76df0124d7",
   "metadata": {},
   "outputs": [
    {
     "name": "stdout",
     "output_type": "stream",
     "text": [
      "all elements are even not numbers\n"
     ]
    }
   ],
   "source": [
    "# 45. In the given array, check if all elements in each column are even.\n",
    "\n",
    "# arr = np.array([[2, 4, 6], [3, 5, 7]])\n",
    "\n",
    "# # check the element are even or not:\n",
    "bool_values=(arr % 2 == 0).all(axis=1)                # condition: check  column wise\n",
    "\n",
    "\n",
    "if all(bool_values) :\n",
    "    print('all elements are even numbers')\n",
    "else:\n",
    "    print('all elements are even not numbers')\n",
    "\n"
   ]
  },
  {
   "cell_type": "code",
   "execution_count": 33,
   "id": "51d4750b-8111-48c4-b030-c59c2a3a5b11",
   "metadata": {},
   "outputs": [
    {
     "data": {
      "text/plain": [
       "array([[1, 2],\n",
       "       [3, 4],\n",
       "       [5, 6]])"
      ]
     },
     "execution_count": 33,
     "metadata": {},
     "output_type": "execute_result"
    }
   ],
   "source": [
    "# 46. Given a NumPy array arr, reshape it into a matrix of dimensions `m` rows and `n` columns. Return the\n",
    "#     reshaped matrix.\n",
    "\n",
    "original_array = np.array([1, 2, 3, 4, 5, 6])\n",
    "\n",
    "# this is the reshaped matrix:\n",
    "reshaped_matrix = original_array.reshape(3,2)\n",
    "reshaped_matrix\n",
    "\n"
   ]
  },
  {
   "cell_type": "code",
   "execution_count": 37,
   "id": "e66393c2-f628-4299-8faf-19d78873daed",
   "metadata": {},
   "outputs": [
    {
     "data": {
      "text/plain": [
       "array([1, 2, 3, 4, 5, 6])"
      ]
     },
     "execution_count": 37,
     "metadata": {},
     "output_type": "execute_result"
    }
   ],
   "source": [
    "# 47. Create a function that takes a matrix as input and returns the flattened array.\n",
    "\n",
    "input_matrix = np.array([[1, 2, 3], [4, 5, 6]])\n",
    "\n",
    "# define the function\n",
    "def flat_matrix(arr):\n",
    "    return arr.flatten()\n",
    "\n",
    "# flatten the matrix:\n",
    "flat_matrix(input_matrix)\n"
   ]
  },
  {
   "cell_type": "code",
   "execution_count": 45,
   "id": "2762ca17-09c1-4129-983e-e6ad0c4385a8",
   "metadata": {},
   "outputs": [
    {
     "data": {
      "text/plain": [
       "array([[1, 2],\n",
       "       [3, 4],\n",
       "       [5, 6],\n",
       "       [7, 8]])"
      ]
     },
     "execution_count": 45,
     "metadata": {},
     "output_type": "execute_result"
    }
   ],
   "source": [
    "# 48. Write a function that concatenates two given arrays along a specified axis.\n",
    "\n",
    "array1 = np.array([[1,2] , [3,4]])\n",
    "array2 = np.array([[5,6] , [7,8]])\n",
    "\n",
    "# concatination: axis= 0\n",
    "np.concatenate((array1 , array2) , axis =0)\n",
    "\n"
   ]
  },
  {
   "cell_type": "code",
   "execution_count": 132,
   "id": "a380a02d-74e7-4006-bf6d-6c9d0e292e25",
   "metadata": {},
   "outputs": [
    {
     "data": {
      "text/plain": [
       "[array([[1, 2, 3]]), array([[4, 5, 6]]), array([[7, 8, 9]])]"
      ]
     },
     "execution_count": 132,
     "metadata": {},
     "output_type": "execute_result"
    }
   ],
   "source": [
    "# 49. Create a function that splits an array into multiple sub-arrays along a specified axis.\n",
    "\n",
    "original_array = np.array([[1, 2, 3], [4, 5, 6], [7, 8, 9]])\n",
    "\n",
    "# define the function:\n",
    "def split_array(arr, axis, indices_or_sections):\n",
    "    return np.split(arr, indices_or_sections, axis=axis)\n",
    "\n",
    "# call the function:\n",
    "split_array(original_array, 0 , 3)"
   ]
  },
  {
   "cell_type": "code",
   "execution_count": 142,
   "id": "1e033a27-659a-4189-ab8b-273fb5658c0f",
   "metadata": {},
   "outputs": [
    {
     "data": {
      "text/plain": [
       "array([ 1, 10,  4, 11,  5])"
      ]
     },
     "execution_count": 142,
     "metadata": {},
     "output_type": "execute_result"
    }
   ],
   "source": [
    "# 50. Write a function that inserts and then deletes elements from a given array at specified indices.\n",
    "\n",
    "original_array = np.array([1,2,3,4,5])\n",
    "indices_to_insert = [2,4]\n",
    "values_to_insert = [10,11]\n",
    "indices_to_delete = [1,3]\n",
    "\n",
    "\n",
    "# define the function:\n",
    "def insert_and_delete_elements(arr, indices_to_insert, values_to_insert, indices_to_delete):\n",
    "    arr = np.insert(arr, indices_to_insert, values_to_insert)\n",
    "    sorted_indices_to_delete = sorted(indices_to_delete, reverse=True)\n",
    "    \n",
    "    for index in sorted_indices_to_delete:\n",
    "        arr = np.delete(arr, index)\n",
    "    return arr\n",
    "\n",
    "# call the function:\n",
    "insert_and_delete_elements(original_array, indices_to_insert, values_to_insert, indices_to_delete)\n"
   ]
  },
  {
   "cell_type": "code",
   "execution_count": 55,
   "id": "7bbe102c-3477-4d05-a3ab-f788f6663be3",
   "metadata": {},
   "outputs": [
    {
     "name": "stdout",
     "output_type": "stream",
     "text": [
      "this is arr1 \n",
      " [[7 2]\n",
      " [2 7]\n",
      " [3 3]]\n",
      "this is arr2 \n",
      " [[6 4]\n",
      " [5 7]\n",
      " [6 1]]\n"
     ]
    },
    {
     "data": {
      "text/plain": [
       "array([[13,  6],\n",
       "       [ 7, 14],\n",
       "       [ 9,  4]])"
      ]
     },
     "execution_count": 55,
     "metadata": {},
     "output_type": "execute_result"
    }
   ],
   "source": [
    "# 51. Create a NumPy array `arr1` with random integers and another array `arr2` with integers from 1 to 10.\n",
    "#     Perform element-wise addition between `arr1` and `arr2`.\n",
    "\n",
    "arr1 = np.random.randint(1,10 ,(3,2))\n",
    "arr2 = np.random.randint(1,10 ,(3,2))\n",
    "\n",
    "print('this is arr1 \\n' , arr1)\n",
    "print('this is arr2 \\n' , arr2)\n",
    "# element wise addition:\n",
    "np.add(arr1,arr2)\n",
    "\n"
   ]
  },
  {
   "cell_type": "code",
   "execution_count": 71,
   "id": "8f7b5392-fee1-4c58-8a83-f5f29c00a525",
   "metadata": {},
   "outputs": [
    {
     "data": {
      "text/plain": [
       "array([ 9,  7,  5,  3,  1, -1, -3, -5, -7, -9])"
      ]
     },
     "execution_count": 71,
     "metadata": {},
     "output_type": "execute_result"
    }
   ],
   "source": [
    "# 52. Generate a NumPy array `arr1` with sequential integers from 10 to 1 and another array `arr2` with integers\n",
    "# from 1 to 10. Subtract `arr2` from `arr1` element-wise.\n",
    "\n",
    "arr1 = np.array([10 , 9 , 8 , 7 , 6 , 5 , 4 , 3 , 2 , 1 ])\n",
    "arr2 = np.array([1 , 2 , 3 , 4 , 5 , 6 , 7 , 8 , 9 , 10 ])\n",
    "\n",
    "# element wise subtraction:\n",
    "np.subtract(arr1,arr2)"
   ]
  },
  {
   "cell_type": "code",
   "execution_count": 83,
   "id": "03da8af9-5875-4ebd-a69b-e45d7055a9db",
   "metadata": {},
   "outputs": [
    {
     "data": {
      "text/plain": [
       "array([ 5, 18,  6, 24, 10])"
      ]
     },
     "execution_count": 83,
     "metadata": {},
     "output_type": "execute_result"
    }
   ],
   "source": [
    "# 53. Create a NumPy array `arr1` with random integers and another array `arr2` with integers from 1 to 5.\n",
    "#     Perform element-wise multiplication between `arr1` and `arr2`.\n",
    "\n",
    "arr1 = np.random.randint(1,10,5)\n",
    "arr2 = np.array([1,2,3,4,5])\n",
    "\n",
    "# element wise multipliction:\n",
    "np.multiply(arr1 ,arr2)"
   ]
  },
  {
   "cell_type": "code",
   "execution_count": 89,
   "id": "05e3ea02-c462-44cb-80f4-5063a7bb1a21",
   "metadata": {},
   "outputs": [
    {
     "data": {
      "text/plain": [
       "array([2., 2., 2., 2., 2.])"
      ]
     },
     "execution_count": 89,
     "metadata": {},
     "output_type": "execute_result"
    }
   ],
   "source": [
    "# 54. Generate a NumPy array `arr1` with even integers from 2 to 10 and another array `arr2` with integers from 1\n",
    "#     to 5. Perform element-wise division of `arr1` by `arr2`.\n",
    "arr1 = np.array([2,4,6,8,10])\n",
    "arr2 = np.array([1,2,3,4,5])\n",
    "\n",
    "# element wise division:\n",
    "np.divide(arr1 , arr2)\n"
   ]
  },
  {
   "cell_type": "code",
   "execution_count": 93,
   "id": "74a16eee-7ca4-425a-940d-6b1e0bcaf45d",
   "metadata": {},
   "outputs": [
    {
     "data": {
      "text/plain": [
       "array([ 1, 16, 27, 16,  5])"
      ]
     },
     "execution_count": 93,
     "metadata": {},
     "output_type": "execute_result"
    }
   ],
   "source": [
    "# 55. Create a NumPy array `arr1` with integers from 1 to 5 and another array `arr2` with the same numbers\n",
    "#     reversed. Calculate the exponentiation of `arr1` raised to the power of `arr2` element-wise.\n",
    "\n",
    "arr1 = np.array([1,2,3,4,5])\n",
    "arr2 = np.array([5,4,3,2,1])\n",
    "\n",
    "# the exponentiation of `arr1` raised to the power of `arr2` element-wise:\n",
    "arr1**arr2\n"
   ]
  },
  {
   "cell_type": "code",
   "execution_count": 101,
   "id": "48a734b0-d616-4bc4-b243-cb13dece40bb",
   "metadata": {},
   "outputs": [
    {
     "data": {
      "text/plain": [
       "3"
      ]
     },
     "execution_count": 101,
     "metadata": {},
     "output_type": "execute_result"
    }
   ],
   "source": [
    "# 56. Write a function that counts the occurrences of a specific substring within a NumPy array of strings.\n",
    "\n",
    "arr = np.array(['hello', 'world', 'hello', 'numpy', 'hello'])\n",
    "\n",
    "# calculate the occurance of substring 'hello'\n",
    "np.char.count(arr , 'hello').sum()"
   ]
  },
  {
   "cell_type": "code",
   "execution_count": 148,
   "id": "e1bc3c6e-2b33-4dfb-8c5d-150a0d56866f",
   "metadata": {},
   "outputs": [
    {
     "name": "stdout",
     "output_type": "stream",
     "text": [
      "this/these is/are the upper character in the array ['GPT']\n"
     ]
    }
   ],
   "source": [
    "# 57. Write a function that extracts uppercase characters from a NumPy array of strings.\n",
    "\n",
    "arr = np.array(['Hello', 'World', 'OpenAI', 'GPT'])\n",
    "\n",
    "# define the function:\n",
    "def extract_upper(array):\n",
    "    return array[np.char.isupper(array)]\n",
    "\n",
    "# call the function:\n",
    "print('this/these is/are the upper character in the array',extract_upper(arr))\n"
   ]
  },
  {
   "cell_type": "code",
   "execution_count": 187,
   "id": "293b9f2d-4371-449a-9735-4174577328fb",
   "metadata": {},
   "outputs": [
    {
     "name": "stdout",
     "output_type": "stream",
     "text": [
      "replaced array: ['orange' 'banana' 'grape' 'pineorange']\n"
     ]
    }
   ],
   "source": [
    "# 58. Write a function that replaces occurrences of a substring in a NumPy array of strings with a new string.\n",
    "\n",
    "# given string:\n",
    "arr = np.array(['apple', 'banana', 'grape', 'pineapple'])\n",
    "\n",
    "# define the string:\n",
    "def replace_substring(array, old_substring, new_substring):\n",
    "    def replace_in_string(string):\n",
    "        return string.replace(old_substring, new_substring)\n",
    "    \n",
    "    return np.array([replace_in_string(string) for string in array])\n",
    "\n",
    "# call the function:\n",
    "replaced_arr = replace_substring(arr, 'apple', 'orange')\n",
    "print(\"replaced array:\", replaced_arr)"
   ]
  },
  {
   "cell_type": "code",
   "execution_count": 119,
   "id": "2946bb0e-ddb1-4904-b0b5-3265f982c61d",
   "metadata": {},
   "outputs": [
    {
     "data": {
      "text/plain": [
       "array(['HelloOpen', 'WorldAI'], dtype='<U9')"
      ]
     },
     "execution_count": 119,
     "metadata": {},
     "output_type": "execute_result"
    }
   ],
   "source": [
    "# 59. Write a function that concatenates strings in a NumPy array element-wise.\n",
    "\n",
    "arr1 = np.array(['Hello' , 'World'])\n",
    "arr2 = np.array(['Open' , 'AI'])\n",
    "\n",
    "# string concatenation\n",
    "np.char.add(arr1 , arr2)"
   ]
  },
  {
   "cell_type": "code",
   "execution_count": 133,
   "id": "b0d97bcd-705d-495b-8f50-499bff422851",
   "metadata": {},
   "outputs": [
    {
     "data": {
      "text/plain": [
       "9"
      ]
     },
     "execution_count": 133,
     "metadata": {},
     "output_type": "execute_result"
    }
   ],
   "source": [
    "# 60. Write a function that finds the length of the longest string in a NumPy array.\n",
    "\n",
    "arr = np.array(['apple', 'banana', 'grape', 'pineapple'])\n",
    "\n",
    "# define the function:\n",
    "def longest_string_length(arr):\n",
    "    lengths = [len(i) for i in arr]\n",
    "    return max(lengths)\n",
    "\n",
    "# call the function:\n",
    "longest_string_length(arr)"
   ]
  },
  {
   "cell_type": "code",
   "execution_count": 145,
   "id": "ce4d0497-7b58-4962-a452-bc04bf6713af",
   "metadata": {},
   "outputs": [
    {
     "name": "stdout",
     "output_type": "stream",
     "text": [
      "this is the mean of the dataset  471.79\n",
      "this is the median of the dataset  443.0\n",
      "this is the variance of the dataset  84440.9859\n",
      "this is the standard deviation of the dataset  290.5873120079402\n"
     ]
    }
   ],
   "source": [
    "# 61. Create a dataset of 100 random integers between 1 and 1000. Compute the mean, median, variance, and\n",
    "#     standard deviation of the dataset using NumPy's functions.\n",
    "\n",
    "# create the dataset\n",
    "arr = np.random.randint(1,1000 , (5,20))\n",
    "print('the dataset is',arr)\n",
    "\n",
    "\n",
    "# Compute the mean, median, variance, and  standard deviation:\n",
    "print('this is the mean of the dataset ' ,np.mean(arr))\n",
    "print('this is the median of the dataset ' ,np.median(arr))\n",
    "print('this is the variance of the dataset ' ,np.var(arr))\n",
    "print('this is the standard deviation of the dataset ' ,np.std(arr))\n",
    "\n"
   ]
  },
  {
   "cell_type": "code",
   "execution_count": 153,
   "id": "47cdb0c7-4c86-4568-862e-4339e922170e",
   "metadata": {},
   "outputs": [
    {
     "name": "stdout",
     "output_type": "stream",
     "text": [
      "the dataset is [[44 45 16 66 32 92 58 32 77 11]\n",
      " [17 47 89  6  1 86 53 60 90 16]\n",
      " [80 67 63 91 57 43 77 58 45 52]\n",
      " [99 60 56 71 64 96 96 55  6 78]\n",
      " [ 5 64 50 38 86  8 34  4  3 75]]\n",
      "25th percentile of the dataset is 32.5\n",
      "75th percentile of the dataset is 76.5\n"
     ]
    }
   ],
   "source": [
    "# 62. Generate an array of 50 random numbers between 1 and 100. Find the 25th and 75th percentiles of the dataset.\n",
    "\n",
    "# create the dataset\n",
    "arr = np.random.randint(1,100 , (5,10))\n",
    "print('the dataset is',arr)\n",
    "\n",
    "# the 25th and 75th percentiles of the dataset.\n",
    "print('25th percentile of the dataset is',np.percentile(arr , 25))\n",
    "print('75th percentile of the dataset is',np.percentile(arr , 75))\n",
    "     "
   ]
  },
  {
   "cell_type": "code",
   "execution_count": 159,
   "id": "80db429a-89a0-4ffe-845d-67993a4e08a0",
   "metadata": {},
   "outputs": [
    {
     "data": {
      "text/plain": [
       "array([[1., 1.],\n",
       "       [1., 1.]])"
      ]
     },
     "execution_count": 159,
     "metadata": {},
     "output_type": "execute_result"
    }
   ],
   "source": [
    "# 63. Create two arrays representing two sets of variables. Compute the correlation coefficient between these\n",
    "# arrays using NumPy's `corrcoef` function.\n",
    "\n",
    "age = np.arange(20 ,75)\n",
    "weight = np.arange(45 , 100) \n",
    "\n",
    "# correlation : \n",
    "np.corrcoef(age,weight)     # from the output it seems linear relationship"
   ]
  },
  {
   "cell_type": "code",
   "execution_count": 175,
   "id": "1b9053b1-4df4-448d-a590-1fc796da1210",
   "metadata": {},
   "outputs": [
    {
     "name": "stdout",
     "output_type": "stream",
     "text": [
      "this is arr1 [[2 5 6]\n",
      " [7 5 9]\n",
      " [4 2 8]]\n",
      "this is arr2 [[6 3 7]\n",
      " [7 5 3]\n",
      " [6 8 9]]\n",
      "the dot product of arr1 and arr2 [[ 83  79  83]\n",
      " [131 118 145]\n",
      " [ 86  86 106]]\n"
     ]
    }
   ],
   "source": [
    "# 64. Create two matrices and perform matrix multiplication using NumPy's `dot` function.\n",
    "\n",
    "# create two  arrays:\n",
    "arr1 = np.random.randint(1,10 ,(3,3))\n",
    "arr2 = np.random.randint(1,10 ,(3,3))\n",
    "\n",
    "print('this is arr1',arr1)\n",
    "print('this is arr2',arr2)\n",
    "# dot function:\n",
    "print('the dot product of arr1 and arr2' , arr1.dot(arr2))\n",
    "\n"
   ]
  },
  {
   "cell_type": "code",
   "execution_count": 185,
   "id": "15aae5a2-7a8c-4fbc-aa7b-58c95e1a4c5c",
   "metadata": {},
   "outputs": [
    {
     "name": "stdout",
     "output_type": "stream",
     "text": [
      "this is the array \n",
      " [697 812 692 957 831 903 599 464  24 764  55  53  85 559 463 125 326 887\n",
      " 214 124 717 824 119 436 325 523  87 483 343 306 919 953  68 857 770 722\n",
      " 850 471 160 430  32 938 827 438 827 409 529 111 827 573]\n",
      "this is 10th percentile 83.30000000000001\n",
      "this is 25th (first quartile) percentile 237.0\n",
      "this is 50th percentile 503.0\n",
      "this is 75th (third quartile) percentile 821.0\n",
      "this is 90th percentile 888.6\n"
     ]
    }
   ],
   "source": [
    "# 65. Create an array of 50 integers between 10 and 1000. Calculate the 10th, 50th (median), and 90th\n",
    "#     percentiles along with the first and third quartiles.\n",
    "\n",
    "# create the array:\n",
    "arr1 = np.random.randint(10,1000 ,50)\n",
    "print('this is the array \\n',arr1)\n",
    "\n",
    "\n",
    "#  Calculate the 10th, 50th (median), and 90th,\n",
    "#  percentiles along with the  first and third quartiles.\n",
    "print('this is 10th percentile' , np.percentile(arr1 , 10))\n",
    "print('this is 25th (first quartile) percentile' , np.percentile(arr1 , 25))\n",
    "print('this is 50th percentile' , np.percentile(arr1 , 50))\n",
    "print('this is 75th (third quartile) percentile' , np.percentile(arr1 , 75))\n",
    "print('this is 90th percentile' , np.percentile(arr1 , 90))\n",
    "\n"
   ]
  },
  {
   "cell_type": "code",
   "execution_count": 23,
   "id": "b485fc0a-c189-4cf1-917f-0a87a0b226d7",
   "metadata": {},
   "outputs": [
    {
     "name": "stdout",
     "output_type": "stream",
     "text": [
      "this is the array \n",
      " [ 1  6  5  8  9 12 46 78  1  1  1  1]\n",
      "indices of the the element 1 is:  \n",
      " [[ 0]\n",
      " [ 8]\n",
      " [ 9]\n",
      " [10]\n",
      " [11]]\n"
     ]
    }
   ],
   "source": [
    "# 66. Create a NumPy array of integers and find the index of a specific element.\n",
    "\n",
    "# create the array:\n",
    "arr1 = np.array([1,6,5,8,9,12,46,78,1,1,1,1])\n",
    "print('this is the array \\n',arr1)\n",
    "\n",
    "# find the index:\n",
    "print('indices of the the element 1 is:  \\n' ,np.argwhere(arr1 == 1))"
   ]
  },
  {
   "cell_type": "code",
   "execution_count": 37,
   "id": "3cee9441-0a02-41a7-b7f2-fa5ffd6dc605",
   "metadata": {},
   "outputs": [
    {
     "data": {
      "text/plain": [
       "array([ 1,  1,  1,  1,  1,  5,  6,  8,  9, 12, 46, 78])"
      ]
     },
     "execution_count": 37,
     "metadata": {},
     "output_type": "execute_result"
    }
   ],
   "source": [
    "# 67. Generate a random NumPy array and sort it in ascending order.\n",
    "# create the array:\n",
    "arr1 = np.array([1,6,5,8,9,12,46,78,1,1,1,1])\n",
    "\n",
    "# sort the array:\n",
    "np.sort(arr1)\n"
   ]
  },
  {
   "cell_type": "code",
   "execution_count": 43,
   "id": "f6592149-64e1-484c-9f43-efc2c903ca7b",
   "metadata": {},
   "outputs": [
    {
     "data": {
      "text/plain": [
       "array([25, 42, 30])"
      ]
     },
     "execution_count": 43,
     "metadata": {},
     "output_type": "execute_result"
    }
   ],
   "source": [
    "# 68. Filter elements >20  in the given NumPy array.\n",
    "\n",
    "# given array:\n",
    "arr = np.array([12, 25, 6, 42, 8, 30])\n",
    "\n",
    "# condition:(bool values)\n",
    "arr > 20\n",
    "\n",
    "# filter the element:\n",
    "arr[arr > 20]"
   ]
  },
  {
   "cell_type": "code",
   "execution_count": 47,
   "id": "d7ff3cb6-4207-4db6-91e6-68c9b07c5baf",
   "metadata": {},
   "outputs": [
    {
     "data": {
      "text/plain": [
       "array([12, 15])"
      ]
     },
     "execution_count": 47,
     "metadata": {},
     "output_type": "execute_result"
    }
   ],
   "source": [
    "# 69. Filter elements which are divisible by 3 from a given NumPy array.\n",
    "\n",
    "# given array:\n",
    "arr = np.array([1, 5, 8, 12, 15])\n",
    "\n",
    "# condition:\n",
    "arr % 3 == 0\n",
    "\n",
    "# filter the elements:\n",
    "arr[arr % 3 == 0]"
   ]
  },
  {
   "cell_type": "code",
   "execution_count": 57,
   "id": "f726ed51-e5ee-4579-8afd-5eced473fb42",
   "metadata": {},
   "outputs": [
    {
     "data": {
      "text/plain": [
       "array([20, 30, 40])"
      ]
     },
     "execution_count": 57,
     "metadata": {},
     "output_type": "execute_result"
    }
   ],
   "source": [
    "# 70. Filter elements which are ≥ 20 and ≤ 40 from a given NumPy array.\n",
    "\n",
    "# given array:\n",
    "arr = np.array([10, 20, 30, 40, 50])\n",
    "\n",
    "# condition:\n",
    "(arr >= 20) & (arr<=40)\n",
    "\n",
    "# filter the elements:\n",
    "arr[(arr >= 20) & (arr<=40)]"
   ]
  },
  {
   "cell_type": "code",
   "execution_count": 59,
   "id": "5ecc9904-061f-425f-b23c-f62f75a6df56",
   "metadata": {},
   "outputs": [
    {
     "data": {
      "text/plain": [
       "'='"
      ]
     },
     "execution_count": 59,
     "metadata": {},
     "output_type": "execute_result"
    }
   ],
   "source": [
    "# 71. For the given NumPy array, check its byte order using the `dtype` attribute byteorder.\n",
    "\n",
    "# given array:\n",
    "arr = np.array([1, 2, 3])\n",
    "\n",
    "# byteorder:\n",
    "arr.dtype.byteorder"
   ]
  },
  {
   "cell_type": "code",
   "execution_count": 73,
   "id": "fdef0de2-8dd7-473a-bb2d-071bd7c2e0c0",
   "metadata": {},
   "outputs": [
    {
     "name": "stdout",
     "output_type": "stream",
     "text": [
      "original array: [1 2 3]\n",
      "swap array: [16777216 33554432 50331648]\n",
      "original byteorder : =\n",
      "original byteorder : >\n"
     ]
    }
   ],
   "source": [
    "# 73. For the given NumPy array, swap its byte order without modifying the original array using\n",
    "#    `newbyteorder()`.\n",
    "\n",
    "# given array:\n",
    "arr = np.array([1, 2, 3], dtype=np.int32)\n",
    "\n",
    "# swap byte order:\n",
    "swap_arr = arr.newbyteorder()\n",
    "\n",
    "\n",
    "# all outputs:\n",
    "print('original array:', arr)\n",
    "print('swap array:' , swap_arr)\n",
    "\n",
    "print('original byteorder :' ,arr.dtype.byteorder )\n",
    "print('original byteorder :' ,swap_arr.dtype.byteorder )\n"
   ]
  },
  {
   "cell_type": "code",
   "execution_count": 81,
   "id": "7a4af697-787e-419d-9017-194884ece86c",
   "metadata": {},
   "outputs": [
    {
     "name": "stdout",
     "output_type": "stream",
     "text": [
      "original array: [1 2 3]\n",
      "swap array: [16777216 33554432 50331648]\n",
      "original byteorder : =\n",
      "original byteorder : >\n"
     ]
    }
   ],
   "source": [
    "# 74. For the given NumPy array and swap its byte order conditionally based on system endianness using\n",
    "#    `newbyteorder()`.\n",
    "\n",
    "# given array:\n",
    "arr = np.array([1, 2, 3], dtype=np.int32)\n",
    "\n",
    "#  check byte order:\n",
    "import sys\n",
    "system_endiness = sys.byteorder\n",
    "\n",
    "# condition based swaping:\n",
    "if system_endiness == 'little':\n",
    "    swap_arr = arr.newbyteorder('>')\n",
    "else:\n",
    "    swap_arr = arr.newbyteorder('<')\n",
    "\n",
    "# all outputs:\n",
    "print('original array:', arr)\n",
    "print('swap array:' , swap_arr)\n",
    "\n",
    "print('original byteorder :' ,arr.dtype.byteorder )\n",
    "print('original byteorder :' ,swap_arr.dtype.byteorder )\n",
    " "
   ]
  },
  {
   "cell_type": "code",
   "execution_count": 89,
   "id": "744e7af7-64b9-4910-bb6b-c957c653ba83",
   "metadata": {},
   "outputs": [
    {
     "name": "stdout",
     "output_type": "stream",
     "text": [
      "system_endiness is: little\n",
      "array_byteorder is: =\n",
      "swap needed? False\n"
     ]
    }
   ],
   "source": [
    "# 75. For the given NumPy array, check if byte swapping is necessary for the current system using `dtype`\n",
    "#   attribute `byteorder`.\n",
    "\n",
    "\n",
    "# Check the system byte order:\n",
    "import sys\n",
    "system_endianness = sys.byteorder\n",
    "\n",
    "# Check the array's byte order:\n",
    "array_byteorder = arr.dtype.byteorder\n",
    "\n",
    "# Determine if byte swapping is necessary:\n",
    "if array_byteorder == \"=\":\n",
    "    # The array is in the system's native byte order, no swap necessary\n",
    "    swap_needed = False\n",
    "elif (system_endianness == 'little' and array_byteorder == '>') or \\\n",
    "     (system_endianness == 'big' and array_byteorder == '<'):\n",
    "    # If system is little-endian but array is big-endian, or vice versa\n",
    "    swap_needed = True\n",
    "else:\n",
    "    swap_needed = False\n",
    "\n",
    "\n",
    "# all outputs:\n",
    "print('system_endiness is:',system_endiness)\n",
    "print('array_byteorder is:' ,array_byteorder)\n",
    "print('swap needed?', swap_needed)"
   ]
  },
  {
   "cell_type": "code",
   "execution_count": 99,
   "id": "0f38bfe6-4e53-4189-9131-525b564c2da1",
   "metadata": {},
   "outputs": [
    {
     "name": "stdout",
     "output_type": "stream",
     "text": [
      "this is original array: [ 1  2  3  4  5  6  7  8  9 10]\n",
      "this is copy array after modification: [  1   2   3   4   5 500   7   8   9  10]\n"
     ]
    }
   ],
   "source": [
    "# 76. Create a NumPy array `arr1` with values from 1 to 10. Create a copy of `arr1` named `copy_arr` and modify\n",
    "#     an element in `copy_arr`. Check if modifying `copy_arr` affects `arr1`.\n",
    "\n",
    "# create an array:\n",
    "arr1 = np.arange(1,11)\n",
    "\n",
    "# copy: (deep copy)\n",
    "copy_arr = np.copy(arr1)\n",
    "\n",
    "# modification:\n",
    "copy_arr[5] = 500\n",
    "\n",
    "# see the output:\n",
    "print('this is original array:',arr1)\n",
    "print('this is copy array after modification:', copy_arr)\n",
    "Print('this is a deep copy so it will  not effect the original array')"
   ]
  },
  {
   "cell_type": "code",
   "execution_count": 127,
   "id": "2692a58a-104b-4e79-a841-e9d8bd9b02ce",
   "metadata": {},
   "outputs": [
    {
     "name": "stdout",
     "output_type": "stream",
     "text": [
      "original array: [[5 8 3]\n",
      " [6 3 8]\n",
      " [3 2 1]]\n",
      "view_slice array [[8 3]\n",
      " [3 8]\n",
      " [2 1]]\n",
      "modified viw_slice array [[ 8  3]\n",
      " [20  8]\n",
      " [ 2  1]]\n",
      "original array  after  all operation: [[ 5  8  3]\n",
      " [ 6 20  8]\n",
      " [ 3  2  1]]\n"
     ]
    }
   ],
   "source": [
    "# 77. Create a 2D NumPy array `matrix` of shape (3, 3) with random integers. Extract a slice `view_slice` from\n",
    "#     the matrix. Modify an element in `view_slice` and observe if it changes the original `matrix`.\n",
    "\n",
    "# create an matrix:\n",
    "arr = np.random.randint(1,10,(3,3))\n",
    "print('original array:' , arr)\n",
    "\n",
    "# slicing:\n",
    "view_slice =  arr[0:3 , 1:3]\n",
    "print('view_slice array' , view_slice)\n",
    "\n",
    "# modify the view_slice:\n",
    "view_slice[1,0] = 20\n",
    "print('modified viw_slice array' , view_slice)\n",
    "\n",
    "# original array  after view_sliced array modification:\n",
    "print('original array  after  all operation:',arr)"
   ]
  },
  {
   "cell_type": "code",
   "execution_count": 149,
   "id": "c5d4f153-ffbd-40cc-bcd5-45b8dec8e7ea",
   "metadata": {},
   "outputs": [
    {
     "name": "stdout",
     "output_type": "stream",
     "text": [
      "original array: \n",
      " [[ 1  2  3]\n",
      " [ 4  5  6]\n",
      " [ 7  8  9]\n",
      " [10 11 12]]\n",
      "view_b : \n",
      " [[2 3]\n",
      " [5 6]]\n",
      "view_b after broadcasting\n",
      " [[ 7  8]\n",
      " [10 11]]\n",
      "original array after all  modification \n",
      " [[ 1  2  3]\n",
      " [ 4  5  6]\n",
      " [ 7  8  9]\n",
      " [10 11 12]]\n",
      "no modification on original array\n"
     ]
    }
   ],
   "source": [
    "# 78. Create a NumPy array `array_a` of shape (4, 3) with sequential integers from 1 to 12. Extract a slice\n",
    "#    `view_b` from `array_a` and broadcast the addition of 5 to view_b. Check if it alters the original `array_a`.\n",
    "\n",
    "# create an matrix:\n",
    "array_a = np.arange(1, 13).reshape(4, 3)\n",
    "print('original array: \\n' , array_a)\n",
    "\n",
    "# extract a slice 'view_b':\n",
    "view_b = array_a[0:2 , 1:3]\n",
    "print('view_b : \\n',view_b )\n",
    "\n",
    "# broadcasting:\n",
    "print('view_b after broadcasting\\n',view_b+5)\n",
    "print('original array after all  modification \\n' , array_a)\n",
    "print('no modification on original array')"
   ]
  },
  {
   "cell_type": "code",
   "execution_count": 165,
   "id": "c23228a7-7bdc-451f-82a3-ee8d52ceee42",
   "metadata": {},
   "outputs": [
    {
     "name": "stdout",
     "output_type": "stream",
     "text": [
      "original array: \n",
      " [[1 2 3 4]\n",
      " [5 6 7 8]]\n",
      "reshaped array: \n",
      " [[1 2]\n",
      " [3 4]\n",
      " [5 6]\n",
      " [7 8]]\n",
      "reshaped array after modification: \n",
      " [[  1   2]\n",
      " [200   4]\n",
      " [  5   6]\n",
      " [  7   8]]\n",
      "original array after all modification: \n",
      " [[  1   2 200   4]\n",
      " [  5   6   7   8]]\n",
      "modification on original array\n"
     ]
    }
   ],
   "source": [
    "# 79. Create a NumPy array `orig_array` of shape (2, 4) with values from 1 to 8. Create a reshaped view\n",
    "#     `reshaped_view` of shape (4, 2) from orig_array. Modify an element in `reshaped_view` and check if it\n",
    "#     reflects changes in the original `orig_array`.\n",
    "\n",
    "# create the array:\n",
    "orig_array = np.arange(1,9).reshape(2, 4)\n",
    "print('original array: \\n' , orig_array)\n",
    "\n",
    "# reshape:\n",
    "reshaped_view = orig_array.reshape(4,2)\n",
    "print('reshaped array: \\n', reshaped_view)\n",
    "\n",
    "# modification:\n",
    "reshaped_view[1 , 0] = 200\n",
    "print('reshaped array after modification: \\n', reshaped_view)\n",
    "print('original array after all modification: \\n' , orig_array)\n",
    "print('modification happens on original array after all operation')"
   ]
  },
  {
   "cell_type": "code",
   "execution_count": 189,
   "id": "e1e3abf3-dc69-463f-bc50-981a0f619e33",
   "metadata": {},
   "outputs": [
    {
     "name": "stdout",
     "output_type": "stream",
     "text": [
      "this is original array: \n",
      " [[ 6  5  4 14]\n",
      " [ 4 10  9  4]\n",
      " [12  5  8  5]]\n",
      "this is the copy_array: \n",
      " [ 6  7  8  9 10 11 12]\n",
      "this is copy array after modification: \n",
      " [  6   7   8 499  10  11  12]\n",
      "this is original array after modification: \n",
      " [[ 6  5  4 14]\n",
      " [ 4 10  9  4]\n",
      " [12  5  8  5]]\n",
      "this is a deep copy so it will  not effect the original array\n"
     ]
    }
   ],
   "source": [
    "# 80. Create a NumPy array `data` of shape (3, 4) with random integers. Extract a copy `data_copy` of\n",
    "#     elements greater than 5. Modify an element in `data_copy` and verify if it affects the original `data`.\n",
    "\n",
    "# create an array:\n",
    "arr1 = np.random.randint(1,15 , (3,4))\n",
    "print('this is original array: \\n',arr1)\n",
    "\n",
    "# condition:\n",
    "arr1 > 5\n",
    "\n",
    "# copy: (deep copy)\n",
    "data_copy = np.copy(arr[arr > 5])\n",
    "print('this is the copy_array: \\n' , data_copy)\n",
    "# modification:\n",
    "data_copy[3] = 499\n",
    "\n",
    "\n",
    "# # see the output:\n",
    "print('this is copy array after modification: \\n', data_copy)\n",
    "print('this is original array after modification: \\n',arr1)\n",
    "print('this is a deep copy so it will  not effect the original array')\n",
    "\n"
   ]
  },
  {
   "cell_type": "code",
   "execution_count": 8,
   "id": "f95808dd-8465-4f71-88ed-d3480d05bce2",
   "metadata": {},
   "outputs": [
    {
     "name": "stdout",
     "output_type": "stream",
     "text": [
      "this is matrix A \n",
      " [[9 5 9 1]\n",
      " [5 3 5 8]\n",
      " [9 3 4 9]]\n",
      "this is matrix b \n",
      " [[ 1  3  4 10]\n",
      " [ 2  9  6  2]\n",
      " [ 3  9  4  5]]\n",
      "this is addition of A and B \n",
      " [[10  8 13 11]\n",
      " [ 7 12 11 10]\n",
      " [12 12  8 14]]\n",
      "this is subtraction of A and B \n",
      " [[ 8  2  5 -9]\n",
      " [ 3 -6 -1  6]\n",
      " [ 6 -6  0  4]]\n"
     ]
    }
   ],
   "source": [
    "# 81. Create two matrices A and B of identical shape containing integers and perform addition and subtraction\n",
    "#     operations between them.\n",
    "\n",
    "# creating arrays:\n",
    "A = np.random.randint(1,11,(3,4))\n",
    "B = np.random.randint(1,11,(3,4))\n",
    "\n",
    "print('this is matrix A \\n',A)\n",
    "print('this is matrix b \\n',B)\n",
    "\n",
    "# addition:\n",
    "print('this is addition of A and B \\n', A + B)\n",
    "\n",
    "# subtraction:\n",
    "print('this is subtraction of A and B \\n' , A-B)"
   ]
  },
  {
   "cell_type": "code",
   "execution_count": 14,
   "id": "ab932943-eecd-4518-9a86-435a5de5d147",
   "metadata": {},
   "outputs": [
    {
     "name": "stdout",
     "output_type": "stream",
     "text": [
      "this is matrix C \n",
      " [[ 2  3]\n",
      " [ 7  5]\n",
      " [10  6]]\n",
      "this is matrix D \n",
      " [[9 4 9 4]\n",
      " [1 9 6 9]]\n",
      "this is multiplication of C and D \n",
      " [[ 21  35  36  35]\n",
      " [ 68  73  93  73]\n",
      " [ 96  94 126  94]]\n"
     ]
    }
   ],
   "source": [
    "# 82. Generate two matrices `C` (3x2) and `D` (2x4) and perform matrix multiplication.\n",
    "\n",
    "# creating arrays:\n",
    "C = np.random.randint(1,11,(3,2))\n",
    "D = np.random.randint(1,11,(2,4))\n",
    "\n",
    "print('this is matrix C \\n',C)\n",
    "print('this is matrix D \\n',D)\n",
    "\n",
    "# addition:\n",
    "print('this is multiplication of C and D \\n', C @ D)"
   ]
  },
  {
   "cell_type": "code",
   "execution_count": 16,
   "id": "d783ee92-76ca-4cff-a04b-1cb3d48ce597",
   "metadata": {},
   "outputs": [
    {
     "name": "stdout",
     "output_type": "stream",
     "text": [
      "this is matrix E \n",
      " [[ 8  1  6 10]\n",
      " [ 5  8  1  3]]\n",
      "transpose of matrix E \n",
      " [[ 8  5]\n",
      " [ 1  8]\n",
      " [ 6  1]\n",
      " [10  3]]\n"
     ]
    }
   ],
   "source": [
    "# 83. Create a matrix `E` and find its transpose.\n",
    "\n",
    "# creating arrays:\n",
    "E = np.random.randint(1,11,(2,4))\n",
    "print('this is matrix E \\n',E)\n",
    "\n",
    "# transpose:\n",
    "print('transpose of matrix E \\n' ,E.T)\n",
    "\n",
    "\n"
   ]
  },
  {
   "cell_type": "code",
   "execution_count": 20,
   "id": "b8dde006-d614-4f02-86d0-dc8162dc7416",
   "metadata": {},
   "outputs": [
    {
     "name": "stdout",
     "output_type": "stream",
     "text": [
      "this is matrix F \n",
      " [[ 3  5  6  1]\n",
      " [ 9 10  4  7]\n",
      " [ 1  3  3  2]\n",
      " [ 6  5 10  3]]\n",
      "determinant of matrix F: 368.99999999999994\n"
     ]
    }
   ],
   "source": [
    "# 84. Generate a square matrix `F` and compute its determinant.\n",
    "\n",
    "# creating arrays:\n",
    "F = np.random.randint(1,11,(4,4))\n",
    "print('this is matrix F \\n',F)\n",
    "\n",
    "# determinant of matrix F:\n",
    "print('determinant of matrix F:', np.linalg.det(F) )\n",
    "\n"
   ]
  },
  {
   "cell_type": "code",
   "execution_count": 24,
   "id": "78f660b1-37e1-43d0-a847-7c6be0faaae8",
   "metadata": {},
   "outputs": [
    {
     "name": "stdout",
     "output_type": "stream",
     "text": [
      "this is matrix G \n",
      " [[ 2  2  6  9]\n",
      " [ 8  6  6 10]\n",
      " [ 9  8  9 10]\n",
      " [ 2  9  5  2]]\n",
      "inverse of matrix G: [[-0.16596639 -0.01155462  0.18487395 -0.1197479 ]\n",
      " [-0.02731092  0.20063025 -0.21008403  0.17016807]\n",
      " [ 0.07352941 -0.46323529  0.41176471 -0.07352941]\n",
      " [ 0.10504202  0.26680672 -0.26890756  0.03781513]]\n"
     ]
    }
   ],
   "source": [
    "# 85. Create a square matrix `G` and find its inverse.\n",
    "\n",
    "# creating arrays:\n",
    "G = np.random.randint(1,11,(4,4))\n",
    "print('this is matrix G \\n',G)\n",
    "\n",
    "# determinant of matrix F:\n",
    "print('inverse of matrix G:', np.linalg.inv(G) )\n"
   ]
  },
  {
   "cell_type": "code",
   "execution_count": null,
   "id": "6b44895a-a821-4fd0-b18f-ebd8c7aa18f2",
   "metadata": {},
   "outputs": [],
   "source": []
  },
  {
   "cell_type": "code",
   "execution_count": null,
   "id": "4959ceaa-b373-485b-9f63-e638b6a1e0ff",
   "metadata": {},
   "outputs": [],
   "source": []
  },
  {
   "cell_type": "code",
   "execution_count": null,
   "id": "81665af8-52ca-4d0f-a728-2500a9244fd4",
   "metadata": {},
   "outputs": [],
   "source": []
  },
  {
   "cell_type": "code",
   "execution_count": null,
   "id": "126afcf3-bcc6-4fcc-9087-695cdc332518",
   "metadata": {},
   "outputs": [],
   "source": []
  }
 ],
 "metadata": {
  "kernelspec": {
   "display_name": "Python 3 (ipykernel)",
   "language": "python",
   "name": "python3"
  },
  "language_info": {
   "codemirror_mode": {
    "name": "ipython",
    "version": 3
   },
   "file_extension": ".py",
   "mimetype": "text/x-python",
   "name": "python",
   "nbconvert_exporter": "python",
   "pygments_lexer": "ipython3",
   "version": "3.12.4"
  }
 },
 "nbformat": 4,
 "nbformat_minor": 5
}
